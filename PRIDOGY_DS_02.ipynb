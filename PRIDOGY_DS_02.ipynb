import pandas as pd 
import numpy as np
import seaborn as sns
import matplotlib.pyplot as plt


titanic = pd.read_csv(r"C:\Users\suman\OneDrive\Pictures\Documents\train.csv")


titanic.shape





titanic


titanic.head()


titanic.tail()





titanic.columns.values


titanic.info()


#getting details
titanic.describe()








titanic.isnull().sum()


# Fill missing values for 'Age' with the mode
titanic['Age'].fillna(titanic['Age'].mode()[0], inplace=True)


# Fill missing values for 'Cabin' with the mode
titanic['Cabin'].fillna(titanic['Cabin'].mode()[0], inplace=True)


# Fill missing values for 'Embarked' with the mode
titanic['Embarked'].fillna(titanic['Embarked'].mode()[0], inplace=True)


titanic.isnull().sum()


titanic['PassengerId'].value_counts()


titanic['PassengerId'].value_counts()


titanic['Survived'].value_counts()


titanic['Pclass'].value_counts()


titanic['Name'].value_counts()


titanic['Sex'].value_counts()


titanic['Age'].value_counts()


titanic['SibSp'].value_counts()


titanic['Parch'].value_counts()


titanic['Ticket'].value_counts()


titanic['Fare'].value_counts()


titanic['Cabin'].value_counts()


titanic['Embarked'].value_counts()





#exploring the age distribution of passengers
plt.figure(figsize=(10, 6))
plt.hist(titanic['Age'],color='#63C12E',bins=20)
plt.xlabel('Age')
plt.ylabel('Count')
plt.title('Age Distribution')
plt.show()





#exploring the fare distribution of passengers
plt.figure(figsize=(10, 6))
plt.hist(titanic['Fare'],color='#2E52C1',bins=20)
plt.xlabel('Fare')
plt.ylabel('Count')
plt.title('Fare Distribution')
plt.show()


#Exploring the relation ship between 'sex' and ' survived'
sex_survived=titanic.groupby('Sex')['Survived'].mean()*100
print(f"Survival Rate by sex : \n {sex_survived}")





#exploring the  distribution of Survival Rate by Sex
plt.figure(figsize=(10, 6))
plt.bar(sex_survived.index,sex_survived.values,color='#BB2727')
plt.xlabel('sex')
plt.ylabel('Survival Rate(%)',fontsize=15)
plt.title('Survival Rate by sex',fontsize=15)
plt.show()





# Visualizing the relationship between 'Pclass' and 'Survived'
plt.bar(pclass_survived.index, pclass_survived.values)
plt.xlabel('PClass')
plt.ylabel('Survival Rate (%)')
plt.title('Survival Rate by Pclass')
plt.show()


sns.set_style('whitegrid')
sns.countplot(x='Survived',data=titanic,palette='Greens')


sns.set_style('whitegrid')
sns.countplot(x='Survived',hue='Sex',data=titanic,palette='Pastel1')


titanic['Sex'] = titanic['Sex'].astype('category')
titanic['Survived'] = titanic['Survived'].astype('category')

# Convert the categories to strings
titanic['Sex'] = titanic['Sex'].cat.rename_categories({0: 'No', 1: 'Yes'})
titanic['Survived'] = titanic['Survived'].cat.rename_categories({1: 'First', 2: 'Second', 3: 'Third'})

# Create the count plot
plt.figure(figsize=(10, 6))
sns.countplot(x='Sex', hue='Survived', data=titanic, palette='rocket')
plt.show()





titanic.hist(figsize=(10,10),color='#CD8C95')
plt.show()





sns.pairplot(titanic,hue='Survived',palette='PuRd_r')
plt.show()


titanic.head()


titanic.dtypes





# Load the Titanic dataset
titanic = sns.load_dataset('titanic')

# Select only the numeric columns
numeric_titanic = titanic.select_dtypes(include=['float64', 'int64'])

# Handle missing values by filling them with the mean of each column
numeric_titanic = numeric_titanic.fillna(numeric_titanic.mean())

# Plot the heatmap
plt.figure(figsize=(5,5))
sns.heatmap(numeric_titanic.corr(), annot=True, cmap='PuBu')
plt.title('Correlation Plot of Numeric Columns in Titanic Dataset')
plt.show()











plt.figure(figsize=(20,15))
sns.scatterplot(y=df.Start_Lat,x=df.Start_Lng,hue=df.State)


plt.figure(figsize=(20,15))
sns.scatterplot(y=df.Start_Lat,x=df.Start_Lng,hue=df.Severity)


df.State.value_counts()[:25]


pie, ax = plt.subplots(figsize=[15,15])
labels df.State.value_counts().keys()
plt.pie(x=df.State.value_counts(),autopct="%.1f%%",explode=[0.1]*len(df.State.value_counts()),labels=labels,pctdistance=0.5)
plt.show();
